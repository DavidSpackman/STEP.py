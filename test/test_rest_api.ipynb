{
 "cells": [
  {
   "cell_type": "code",
   "execution_count": 1,
   "id": "7a121bed-9a48-4a04-86af-78a74ec31866",
   "metadata": {},
   "outputs": [],
   "source": [
    "import re, sys, os, requests, json, hashlib\n",
    "\n",
    "from time import sleep\n",
    "from io import StringIO\n",
    "from datetime import datetime\n",
    "from dotmap import DotMap\n",
    "from tqdm import tqdm\n",
    "from Perdy.pretty import prettyPrintLn\n",
    "from Spanners.Squirrel import Squirrel\n",
    "\n",
    "from STEP.REST import Processes, Instances, Endpoints, Imports, Exports, Classifications, Assets, Entities, Products"
   ]
  },
  {
   "cell_type": "code",
   "execution_count": 2,
   "id": "4495a278-53af-47f9-91c3-bdbb46dc6bb1",
   "metadata": {},
   "outputs": [],
   "source": [
    "squirrel = Squirrel()\n",
    "hostname='http://dave-steplinux'\n",
    "username='DAVE'\n",
    "password = squirrel.get(f'stibo:{hostname}:{username}')"
   ]
  },
  {
   "cell_type": "code",
   "execution_count": 3,
   "id": "a488fb5c-17b8-4797-9436-5cefc0c9c007",
   "metadata": {},
   "outputs": [],
   "source": [
    "context = 'Context1'\n",
    "workspace = 'Main'\n",
    "\n",
    "def constructor(clasz):\n",
    "    instance = clasz()\n",
    "    instance.hostname=hostname\n",
    "    instance.username=username\n",
    "    instance.password=password\n",
    "    return instance\n",
    "\n",
    "processes       = constructor(Processes)\n",
    "instances       = constructor(Instances)\n",
    "endpoints       = constructor(Endpoints)\n",
    "imports         = constructor(Imports)\n",
    "exports         = constructor(Exports)\n",
    "products        = constructor(Products)\n",
    "classifications = constructor(Classifications)\n",
    "entities        = constructor(Entities)\n",
    "assets          = constructor(Assets)"
   ]
  },
  {
   "cell_type": "code",
   "execution_count": 4,
   "id": "57f7cf14-0596-47ef-a3ed-002a90260c71",
   "metadata": {},
   "outputs": [
    {
     "data": {
      "text/plain": [
       "['approve',\n",
       " 'asXML',\n",
       " 'base',\n",
       " 'children',\n",
       " 'context',\n",
       " 'create',\n",
       " 'delete',\n",
       " 'export',\n",
       " 'file',\n",
       " 'format',\n",
       " 'get',\n",
       " 'headers',\n",
       " 'hostname',\n",
       " 'list',\n",
       " 'output',\n",
       " 'password',\n",
       " 'path',\n",
       " 'post',\n",
       " 'process',\n",
       " 'put',\n",
       " 'reference',\n",
       " 'references',\n",
       " 'search',\n",
       " 'silent',\n",
       " 'tables',\n",
       " 'update',\n",
       " 'username',\n",
       " 'values',\n",
       " 'verbose',\n",
       " 'version',\n",
       " 'workspace',\n",
       " 'xslt']"
      ]
     },
     "execution_count": 4,
     "metadata": {},
     "output_type": "execute_result"
    }
   ],
   "source": [
    "product_parent = 'Product hierarchy root'\n",
    "product_type = 'Products'\n",
    "product_id = 'eddo product was here'\n",
    "product_name = 'Eddo Product was here'\n",
    "\n",
    "#products.create_or_replace(id=product_id, name=product_name, parent=parent_product, tipe=product_type)\n",
    "list(filter(lambda x: not x.startswith('_'), dir(products)))"
   ]
  },
  {
   "cell_type": "code",
   "execution_count": null,
   "id": "e9bde303-553e-4f06-b74b-6b74c685e32d",
   "metadata": {},
   "outputs": [],
   "source": []
  },
  {
   "cell_type": "code",
   "execution_count": null,
   "id": "c36ec24e-ecc2-4447-8fc2-fdba1604cebb",
   "metadata": {},
   "outputs": [],
   "source": []
  }
 ],
 "metadata": {
  "kernelspec": {
   "display_name": "Python 3 (ipykernel)",
   "language": "python",
   "name": "python3"
  },
  "language_info": {
   "codemirror_mode": {
    "name": "ipython",
    "version": 3
   },
   "file_extension": ".py",
   "mimetype": "text/x-python",
   "name": "python",
   "nbconvert_exporter": "python",
   "pygments_lexer": "ipython3",
   "version": "3.11.6"
  }
 },
 "nbformat": 4,
 "nbformat_minor": 5
}
