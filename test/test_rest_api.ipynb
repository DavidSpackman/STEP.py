{
 "cells": [
  {
   "cell_type": "code",
   "execution_count": 2,
   "id": "7a121bed-9a48-4a04-86af-78a74ec31866",
   "metadata": {
    "tags": []
   },
   "outputs": [],
   "source": [
    "import re, sys, os, requests, json, hashlib\n",
    "\n",
    "from time import sleep\n",
    "from io import StringIO\n",
    "from datetime import datetime\n",
    "from dotmap import DotMap\n",
    "from tqdm import tqdm\n",
    "from Perdy.pretty import prettyPrintLn\n",
    "from Spanners.Squirrel import Squirrel\n",
    "\n",
    "from STEP.REST import Processes, Instances, Endpoints, Imports, Exports, Classifications, Assets, Entities, Products"
   ]
  },
  {
   "cell_type": "code",
   "execution_count": 3,
   "id": "4495a278-53af-47f9-91c3-bdbb46dc6bb1",
   "metadata": {
    "tags": []
   },
   "outputs": [],
   "source": [
    "squirrel = Squirrel()\n",
    "hostname='http://dave-steplinux'\n",
    "username='DAVE'\n",
    "password = squirrel.get(f'stibo:{hostname}:{username}')"
   ]
  },
  {
   "cell_type": "code",
   "execution_count": 4,
   "id": "a488fb5c-17b8-4797-9436-5cefc0c9c007",
   "metadata": {
    "tags": []
   },
   "outputs": [],
   "source": [
    "context = 'Context1'\n",
    "workspace = 'Main'\n",
    "\n",
    "def constructor(clasz):\n",
    "    instance = clasz()\n",
    "    instance.hostname=hostname\n",
    "    instance.username=username\n",
    "    instance.password=password\n",
    "    return instance\n",
    "\n",
    "processes       = constructor(Processes)\n",
    "instances       = constructor(Instances)\n",
    "endpoints       = constructor(Endpoints)\n",
    "imports         = constructor(Imports)\n",
    "exports         = constructor(Exports)\n",
    "products        = constructor(Products)\n",
    "classifications = constructor(Classifications)\n",
    "entities        = constructor(Entities)\n",
    "assets          = constructor(Assets)"
   ]
  },
  {
   "cell_type": "code",
   "execution_count": 18,
   "id": "57f7cf14-0596-47ef-a3ed-002a90260c71",
   "metadata": {
    "tags": []
   },
   "outputs": [
    {
     "data": {
      "text/plain": [
       "{'id': 'eddo product was here',\n",
       " 'name': 'Eddo Product was here',\n",
       " 'objectType': 'Products',\n",
       " 'parent': 'Product hierarchy root',\n",
       " 'values': {'CompletenessStatus': {'calculated': True,\n",
       "   'contextLocal': True,\n",
       "   'inherited': False,\n",
       "   'value': {'value': 'Item Enrichment', 'valueId': None, 'unit': None}},\n",
       "  'CompletenessProductOnboarding': {'calculated': True,\n",
       "   'contextLocal': True,\n",
       "   'inherited': False,\n",
       "   'value': {'value': '0', 'valueId': None, 'unit': None}},\n",
       "  'Completeness Status Marketing': {'calculated': True,\n",
       "   'contextLocal': True,\n",
       "   'inherited': False,\n",
       "   'value': {'value': 'Item Enrichment', 'valueId': None, 'unit': None}},\n",
       "  'CompletenessScore': {'calculated': True,\n",
       "   'contextLocal': True,\n",
       "   'inherited': False,\n",
       "   'value': {'value': '0', 'valueId': None, 'unit': None}},\n",
       "  'CategorySpecificCompleteness': {'calculated': True,\n",
       "   'contextLocal': True,\n",
       "   'inherited': False,\n",
       "   'value': {'value': '0', 'valueId': None, 'unit': None}},\n",
       "  'Completeness Score Asset References': {'calculated': True,\n",
       "   'contextLocal': True,\n",
       "   'inherited': False,\n",
       "   'value': {'value': '0 %', 'valueId': None, 'unit': None}},\n",
       "  'CompletenessPrimaryImage': {'calculated': True,\n",
       "   'contextLocal': True,\n",
       "   'inherited': False,\n",
       "   'value': {'value': '0', 'valueId': None, 'unit': None}},\n",
       "  'Completeness_Score_Marketing': {'calculated': True,\n",
       "   'contextLocal': True,\n",
       "   'inherited': False,\n",
       "   'value': {'value': '0 %', 'valueId': None, 'unit': None}}},\n",
       " 'references': {},\n",
       " 'attributeLinks': [],\n",
       " 'dataContainers': {}}"
      ]
     },
     "execution_count": 18,
     "metadata": {},
     "output_type": "execute_result"
    }
   ],
   "source": [
    "product_parent = 'Product hierarchy root'\n",
    "product_type = 'Products'\n",
    "product_id = 'eddo product was here'\n",
    "product_name = 'Eddo Product was here'\n",
    "\n",
    "#list(filter(lambda x: not x.startswith('_'), dir(products)))\n",
    "\n",
    "products.create_or_replace(id=product_id, name=product_name, parent=product_parent, tipe=product_type, overwrite=True)\n"
   ]
  },
  {
   "cell_type": "code",
   "execution_count": null,
   "id": "e9bde303-553e-4f06-b74b-6b74c685e32d",
   "metadata": {},
   "outputs": [],
   "source": []
  },
  {
   "cell_type": "code",
   "execution_count": null,
   "id": "c36ec24e-ecc2-4447-8fc2-fdba1604cebb",
   "metadata": {},
   "outputs": [],
   "source": []
  }
 ],
 "metadata": {
  "kernelspec": {
   "display_name": "Python 3 (ipykernel)",
   "language": "python",
   "name": "python3"
  },
  "language_info": {
   "codemirror_mode": {
    "name": "ipython",
    "version": 3
   },
   "file_extension": ".py",
   "mimetype": "text/x-python",
   "name": "python",
   "nbconvert_exporter": "python",
   "pygments_lexer": "ipython3",
   "version": "3.11.5"
  },
  "widgets": {
   "application/vnd.jupyter.widget-state+json": {
    "state": {},
    "version_major": 2,
    "version_minor": 0
   }
  }
 },
 "nbformat": 4,
 "nbformat_minor": 5
}
