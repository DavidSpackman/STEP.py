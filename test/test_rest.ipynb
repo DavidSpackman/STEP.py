{
 "cells": [
  {
   "cell_type": "code",
   "execution_count": null,
   "id": "7696c38f-4f62-40e2-be12-5c022c43aa09",
   "metadata": {},
   "outputs": [],
   "source": [
    "from test_rest import *\n",
    "\n",
    "unittest.main(argv=['Test_01_Workflows'], verbosity=2, exit=False)"
   ]
  }
 ],
 "metadata": {
  "kernelspec": {
   "display_name": "Python 3 (ipykernel)",
   "language": "python",
   "name": "python3"
  },
  "language_info": {
   "codemirror_mode": {
    "name": "ipython",
    "version": 3
   },
   "file_extension": ".py",
   "mimetype": "text/x-python",
   "name": "python",
   "nbconvert_exporter": "python",
   "pygments_lexer": "ipython3",
   "version": "3.9.13"
  }
 },
 "nbformat": 4,
 "nbformat_minor": 5
}
